{
 "cells": [
  {
   "cell_type": "code",
   "execution_count": null,
   "metadata": {
    "collapsed": true
   },
   "outputs": [],
   "source": [
    "import numpy as np\n",
    "import matplotlib\n",
    "matplotlib.use('Agg')\n",
    "import matplotlib.pyplot as plt\n",
    "import io\n",
    "import PIL"
   ]
  },
  {
   "cell_type": "code",
   "execution_count": null,
   "metadata": {
    "collapsed": true
   },
   "outputs": [],
   "source": [
    "def gen_plot_batch(ts_batch):\n",
    "    \"\"\"Create a pyplot plot and save to buffer.\"\"\"\n",
    "    plt.figure()\n",
    "    for batch_elmt in ts_batch:\n",
    "        plt.plot(batch_elmt)\n",
    "    plt.title(\"test\")\n",
    "    buf = io.BytesIO()\n",
    "    plt.savefig(buf, format='png')\n",
    "    buf.seek(0)\n",
    "    image = PIL.Image.open(buf)\n",
    "    ar = np.asarray(image)\n",
    "    buf.close()\n",
    "    plt.close()\n",
    "    return ar"
   ]
  },
  {
   "cell_type": "code",
   "execution_count": null,
   "metadata": {
    "collapsed": true
   },
   "outputs": [],
   "source": [
    "def gen_plot_single(ts):\n",
    "    \"\"\"Create a pyplot plot and save to buffer.\"\"\"\n",
    "    plt.figure()\n",
    "    plt.plot(ts)\n",
    "    plt.title(\"test\")\n",
    "    buf = io.BytesIO()\n",
    "    plt.savefig(buf, format='png')\n",
    "    buf.seek(0)\n",
    "    image = PIL.Image.open(buf)\n",
    "    ar = np.asarray(image)\n",
    "    buf.close()\n",
    "    plt.close()\n",
    "    return ar"
   ]
  },
  {
   "cell_type": "code",
   "execution_count": null,
   "metadata": {
    "collapsed": true
   },
   "outputs": [],
   "source": [
    "import tensorflow as tf\n",
    "import numpy as np\n",
    "import time\n",
    "import os\n",
    "import sys\n",
    "\n",
    "for target_stock in target_stocks:\n",
    "\n",
    "    with tf.variable_scope(target_stock):\n",
    "        # tf Graph input\n",
    "        x_tf = tf.placeholder(\"float\", [batch_size, seq_length, dim_inputs])\n",
    "        x_placeholders[target_stock] = x_tf\n",
    "\n",
    "        y, a, b = build_invariant_network(x_tf, depth_list, non_linearity_list,\n",
    "                                          seq_length, batch_size, dim_inputs, dim_outputs)\n",
    "\n",
    "        list_of_as.append(a)\n",
    "        list_of_bs.append(b)\n",
    "\n",
    "        y = tf.reshape(y, [batch_size, -1])\n",
    "\n",
    "        outputs = [tf.reshape(x, [-1]) for x in tf.split(0, batch_size, y)]\n",
    "\n",
    "        features.append(y)\n",
    "\n",
    "linear_combination = tf.pack(list_of_as)\n",
    "residual = tf.add_n(features)\n",
    "\n",
    "mean_residual = tf.reduce_mean(residual)\n",
    "mean_residual_h = tf.scalar_summary(\"mean residual\", mean_residual)\n",
    "\n",
    "centered_residuals = residual - mean_residual\n",
    "rho_1 = tf.reduce_sum(centered_residuals[:, 1:] * centered_residuals[:, :-1])\n",
    "rho_1 = rho_1 / tf.reduce_sum(centered_residuals * centered_residuals)\n",
    "rho_1_h = tf.scalar_summary(\"rho_1\", rho_1)\n",
    "\n",
    "cost = tf.nn.l2_loss(tf.add_n(outputs))\n",
    "\n",
    "optimizer = tf.train.AdamOptimizer(learning_rate=learning_rate).minimize(cost)\n",
    "cost_h = tf.scalar_summary(\"total_cost\", cost)\n",
    "\n",
    "summaries = tf.merge_all_summaries()\n",
    "\n",
    "########################################################\n",
    "#\n",
    "#   Supplementary summaries for performance evaluation\n",
    "#\n",
    "########################################################\n",
    "\n",
    "plot_placehoder = tf.placeholder(\"uint8\", [None, None, None, 4])\n",
    "plot_h = tf.image_summary(\"Cointegration eval\", plot_placehoder, max_images=batch_size)\n",
    "\n",
    "\n",
    "for i in xrange(batch_size):\n",
    "    next_batch_array = np.asanyarray([next_batch[x][i] for x in stock_list])\n",
    "    values[i], signals[i] = RunCointegration(next_batch_array, next_batch_array, lin_comb, residual_eval[i],\n",
    "                                             bot_type, bot_args)\n",
    "\n",
    "    next_batch_array = np.asanyarray([next_batch[x][i] for x in stock_list])\n",
    "    plot_result = plot_cointegration(next_batch_array, stock_list,\n",
    "                                     residual_eval[i], values[i], signals[i])\n",
    "    plot_results.append(plot_result)\n",
    "\n",
    "plot_summary_eval = sess.run(plot_h, feed_dict={plot_placehoder: np.asanyarray(plot_results)})\n",
    "test_summary_writer.add_summary(plot_summary_eval, step)\n",
    "\n",
    "test_summary_writer.add_summary(sharpe_ratio_summary_eval, step)\n",
    "\n",
    "print(\"Iter \" + str(step*batch_size) + \", Minibatch Loss= \" +\n",
    "      \"{:.6f}\".format(loss) + \", Minibatch Test Loss= \" + \"{:.6f}\".format(loss_test))\n",
    "\n",
    "step += 1\n",
    "print(\"Optimization Finished!\")"
   ]
  }
 ],
 "metadata": {
  "kernelspec": {
   "display_name": "Python 2",
   "language": "python",
   "name": "python2"
  },
  "language_info": {
   "codemirror_mode": {
    "name": "ipython",
    "version": 2
   },
   "file_extension": ".py",
   "mimetype": "text/x-python",
   "name": "python",
   "nbconvert_exporter": "python",
   "pygments_lexer": "ipython2",
   "version": "2.7.12"
  }
 },
 "nbformat": 4,
 "nbformat_minor": 2
}
