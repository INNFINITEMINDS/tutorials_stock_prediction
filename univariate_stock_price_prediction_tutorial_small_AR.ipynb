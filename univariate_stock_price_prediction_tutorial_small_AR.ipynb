{
 "cells": [
  {
   "cell_type": "code",
   "execution_count": 1,
   "metadata": {},
   "outputs": [
    {
     "name": "stdout",
     "output_type": "stream",
     "text": [
      "0.20.3\n",
      "1.3.0\n"
     ]
    }
   ],
   "source": [
    "import tensorflow as tf\n",
    "import numpy as np\n",
    "import pandas as pd\n",
    "import seaborn\n",
    "from matplotlib import pyplot as plt\n",
    "%matplotlib inline\n",
    "\n",
    "print(pd.__version__)\n",
    "print(tf.__version__)"
   ]
  },
  {
   "cell_type": "code",
   "execution_count": 2,
   "metadata": {
    "collapsed": true
   },
   "outputs": [],
   "source": [
    "batch_size = 128\n",
    "d_x = 1\n",
    "d_y = 1\n",
    "\n",
    "target_stock = 'IBM'\n",
    "stock_list = [target_stock]\n",
    "n_stocks = 1\n",
    "\n",
    "start_date = '20150101'\n",
    "end_date = '20151231'\n",
    "\n",
    "n_ms = 100\n",
    "sampling_freq = ('%dms' % n_ms)"
   ]
  },
  {
   "cell_type": "markdown",
   "metadata": {},
   "source": [
    "# Read data in folder"
   ]
  },
  {
   "cell_type": "code",
   "execution_count": 3,
   "metadata": {
    "collapsed": true
   },
   "outputs": [],
   "source": [
    "folder_name = '/home/ubuntu/trade_data/'\n",
    "colnames = ['date',\n",
    "            'time',\n",
    "            'ex',\n",
    "            'symbol',\n",
    "            'trade_cond',\n",
    "            'size',\n",
    "            'price',\n",
    "            'stopinf',\n",
    "            'corr',\n",
    "            'seqnum',\n",
    "            'source',\n",
    "            'rf']\n",
    "\n",
    "def read_from_csv(stock, date):\n",
    "    \n",
    "    local_file_path = folder_name + ('%s_%s.csv.gz' % (date, stock))\n",
    "    \n",
    "    try:\n",
    "        df = pd.read_csv(\n",
    "            local_file_path,\n",
    "            names=None,\n",
    "            parse_dates={'datetime': ['date', 'time']}, \n",
    "            compression='gzip',\n",
    "            engine='c').set_index('datetime')\n",
    "    except IOError as e:\n",
    "        return None\n",
    "    \n",
    "    return df[['price', 'size']]"
   ]
  },
  {
   "cell_type": "code",
   "execution_count": 4,
   "metadata": {
    "collapsed": true
   },
   "outputs": [],
   "source": [
    "dates = pd.date_range(start_date, end_date).map(lambda x: ''.join(str(x).split(' ')[0].split('-')))\n",
    "\n",
    "data_set = [read_from_csv(stock, date)\n",
    "            for date in dates\n",
    "            for stock in stock_list]"
   ]
  },
  {
   "cell_type": "code",
   "execution_count": 5,
   "metadata": {
    "collapsed": true
   },
   "outputs": [],
   "source": [
    "valid_dates = [dates[i] for i in xrange(len(dates)) if data_set[i] is not None]\n",
    "data_set = [x for x in data_set if x is not None]"
   ]
  },
  {
   "cell_type": "code",
   "execution_count": 6,
   "metadata": {},
   "outputs": [
    {
     "data": {
      "text/html": [
       "<div>\n",
       "<style>\n",
       "    .dataframe thead tr:only-child th {\n",
       "        text-align: right;\n",
       "    }\n",
       "\n",
       "    .dataframe thead th {\n",
       "        text-align: left;\n",
       "    }\n",
       "\n",
       "    .dataframe tbody tr th {\n",
       "        vertical-align: top;\n",
       "    }\n",
       "</style>\n",
       "<table border=\"1\" class=\"dataframe\">\n",
       "  <thead>\n",
       "    <tr style=\"text-align: right;\">\n",
       "      <th></th>\n",
       "      <th>price</th>\n",
       "      <th>size</th>\n",
       "    </tr>\n",
       "    <tr>\n",
       "      <th>datetime</th>\n",
       "      <th></th>\n",
       "      <th></th>\n",
       "    </tr>\n",
       "  </thead>\n",
       "  <tbody>\n",
       "    <tr>\n",
       "      <th>2015-01-02 08:00:06.611</th>\n",
       "      <td>160.4400</td>\n",
       "      <td>6700</td>\n",
       "    </tr>\n",
       "    <tr>\n",
       "      <th>2015-01-02 08:20:35.654</th>\n",
       "      <td>160.4400</td>\n",
       "      <td>5977</td>\n",
       "    </tr>\n",
       "    <tr>\n",
       "      <th>2015-01-02 08:25:19.899</th>\n",
       "      <td>161.0000</td>\n",
       "      <td>50</td>\n",
       "    </tr>\n",
       "    <tr>\n",
       "      <th>2015-01-02 08:27:51.718</th>\n",
       "      <td>161.0000</td>\n",
       "      <td>200</td>\n",
       "    </tr>\n",
       "    <tr>\n",
       "      <th>2015-01-02 08:28:35.025</th>\n",
       "      <td>161.6100</td>\n",
       "      <td>50</td>\n",
       "    </tr>\n",
       "    <tr>\n",
       "      <th>2015-01-02 08:34:06.654</th>\n",
       "      <td>160.4400</td>\n",
       "      <td>7270</td>\n",
       "    </tr>\n",
       "    <tr>\n",
       "      <th>2015-01-02 08:36:08.256</th>\n",
       "      <td>161.0300</td>\n",
       "      <td>50</td>\n",
       "    </tr>\n",
       "    <tr>\n",
       "      <th>2015-01-02 08:36:08.256</th>\n",
       "      <td>161.0200</td>\n",
       "      <td>150</td>\n",
       "    </tr>\n",
       "    <tr>\n",
       "      <th>2015-01-02 08:38:47.064</th>\n",
       "      <td>160.4400</td>\n",
       "      <td>11793</td>\n",
       "    </tr>\n",
       "    <tr>\n",
       "      <th>2015-01-02 08:39:42.730</th>\n",
       "      <td>160.4400</td>\n",
       "      <td>5068</td>\n",
       "    </tr>\n",
       "    <tr>\n",
       "      <th>2015-01-02 08:43:09.781</th>\n",
       "      <td>161.0000</td>\n",
       "      <td>300</td>\n",
       "    </tr>\n",
       "    <tr>\n",
       "      <th>2015-01-02 08:51:52.997</th>\n",
       "      <td>160.4400</td>\n",
       "      <td>3559</td>\n",
       "    </tr>\n",
       "    <tr>\n",
       "      <th>2015-01-02 08:52:26.991</th>\n",
       "      <td>161.0000</td>\n",
       "      <td>200</td>\n",
       "    </tr>\n",
       "    <tr>\n",
       "      <th>2015-01-02 08:52:27.545</th>\n",
       "      <td>161.0000</td>\n",
       "      <td>200</td>\n",
       "    </tr>\n",
       "    <tr>\n",
       "      <th>2015-01-02 08:52:28.015</th>\n",
       "      <td>161.0000</td>\n",
       "      <td>200</td>\n",
       "    </tr>\n",
       "    <tr>\n",
       "      <th>2015-01-02 08:52:29.179</th>\n",
       "      <td>161.0000</td>\n",
       "      <td>42</td>\n",
       "    </tr>\n",
       "    <tr>\n",
       "      <th>2015-01-02 09:09:13.396</th>\n",
       "      <td>161.0800</td>\n",
       "      <td>100</td>\n",
       "    </tr>\n",
       "    <tr>\n",
       "      <th>2015-01-02 09:10:43.957</th>\n",
       "      <td>161.0000</td>\n",
       "      <td>50</td>\n",
       "    </tr>\n",
       "    <tr>\n",
       "      <th>2015-01-02 09:10:43.957</th>\n",
       "      <td>160.7700</td>\n",
       "      <td>200</td>\n",
       "    </tr>\n",
       "    <tr>\n",
       "      <th>2015-01-02 09:10:43.957</th>\n",
       "      <td>160.7700</td>\n",
       "      <td>200</td>\n",
       "    </tr>\n",
       "    <tr>\n",
       "      <th>2015-01-02 09:10:55.461</th>\n",
       "      <td>160.7700</td>\n",
       "      <td>200</td>\n",
       "    </tr>\n",
       "    <tr>\n",
       "      <th>2015-01-02 09:17:04.086</th>\n",
       "      <td>161.0800</td>\n",
       "      <td>210</td>\n",
       "    </tr>\n",
       "    <tr>\n",
       "      <th>2015-01-02 09:17:04.086</th>\n",
       "      <td>161.0900</td>\n",
       "      <td>290</td>\n",
       "    </tr>\n",
       "    <tr>\n",
       "      <th>2015-01-02 09:17:04.303</th>\n",
       "      <td>161.0900</td>\n",
       "      <td>210</td>\n",
       "    </tr>\n",
       "    <tr>\n",
       "      <th>2015-01-02 09:17:04.303</th>\n",
       "      <td>161.0900</td>\n",
       "      <td>100</td>\n",
       "    </tr>\n",
       "    <tr>\n",
       "      <th>2015-01-02 09:17:04.303</th>\n",
       "      <td>161.1000</td>\n",
       "      <td>190</td>\n",
       "    </tr>\n",
       "    <tr>\n",
       "      <th>2015-01-02 09:17:14.319</th>\n",
       "      <td>161.1000</td>\n",
       "      <td>300</td>\n",
       "    </tr>\n",
       "    <tr>\n",
       "      <th>2015-01-02 09:17:15.610</th>\n",
       "      <td>161.1000</td>\n",
       "      <td>100</td>\n",
       "    </tr>\n",
       "    <tr>\n",
       "      <th>2015-01-02 09:17:21.671</th>\n",
       "      <td>161.1000</td>\n",
       "      <td>300</td>\n",
       "    </tr>\n",
       "    <tr>\n",
       "      <th>2015-01-02 09:17:22.531</th>\n",
       "      <td>161.1000</td>\n",
       "      <td>100</td>\n",
       "    </tr>\n",
       "    <tr>\n",
       "      <th>...</th>\n",
       "      <td>...</td>\n",
       "      <td>...</td>\n",
       "    </tr>\n",
       "    <tr>\n",
       "      <th>2015-01-02 16:05:27.744</th>\n",
       "      <td>162.0800</td>\n",
       "      <td>100</td>\n",
       "    </tr>\n",
       "    <tr>\n",
       "      <th>2015-01-02 16:08:42.424</th>\n",
       "      <td>162.6794</td>\n",
       "      <td>7000</td>\n",
       "    </tr>\n",
       "    <tr>\n",
       "      <th>2015-01-02 16:09:21.891</th>\n",
       "      <td>162.0500</td>\n",
       "      <td>7151</td>\n",
       "    </tr>\n",
       "    <tr>\n",
       "      <th>2015-01-02 16:09:21.989</th>\n",
       "      <td>162.0500</td>\n",
       "      <td>7988</td>\n",
       "    </tr>\n",
       "    <tr>\n",
       "      <th>2015-01-02 16:11:13.068</th>\n",
       "      <td>162.0600</td>\n",
       "      <td>22044</td>\n",
       "    </tr>\n",
       "    <tr>\n",
       "      <th>2015-01-02 16:12:10.305</th>\n",
       "      <td>162.3843</td>\n",
       "      <td>200</td>\n",
       "    </tr>\n",
       "    <tr>\n",
       "      <th>2015-01-02 16:12:12.153</th>\n",
       "      <td>162.0600</td>\n",
       "      <td>2856</td>\n",
       "    </tr>\n",
       "    <tr>\n",
       "      <th>2015-01-02 16:12:38.418</th>\n",
       "      <td>162.3843</td>\n",
       "      <td>100</td>\n",
       "    </tr>\n",
       "    <tr>\n",
       "      <th>2015-01-02 16:12:39.718</th>\n",
       "      <td>162.3843</td>\n",
       "      <td>100</td>\n",
       "    </tr>\n",
       "    <tr>\n",
       "      <th>2015-01-02 16:12:40.316</th>\n",
       "      <td>162.3843</td>\n",
       "      <td>100</td>\n",
       "    </tr>\n",
       "    <tr>\n",
       "      <th>2015-01-02 16:12:41.218</th>\n",
       "      <td>162.3843</td>\n",
       "      <td>100</td>\n",
       "    </tr>\n",
       "    <tr>\n",
       "      <th>2015-01-02 16:12:54.964</th>\n",
       "      <td>162.0600</td>\n",
       "      <td>180</td>\n",
       "    </tr>\n",
       "    <tr>\n",
       "      <th>2015-01-02 16:12:56.888</th>\n",
       "      <td>162.0600</td>\n",
       "      <td>868</td>\n",
       "    </tr>\n",
       "    <tr>\n",
       "      <th>2015-01-02 16:18:26.398</th>\n",
       "      <td>162.0500</td>\n",
       "      <td>50</td>\n",
       "    </tr>\n",
       "    <tr>\n",
       "      <th>2015-01-02 16:22:12.496</th>\n",
       "      <td>162.4549</td>\n",
       "      <td>36</td>\n",
       "    </tr>\n",
       "    <tr>\n",
       "      <th>2015-01-02 16:23:34.347</th>\n",
       "      <td>162.0600</td>\n",
       "      <td>205</td>\n",
       "    </tr>\n",
       "    <tr>\n",
       "      <th>2015-01-02 16:32:22.292</th>\n",
       "      <td>162.0000</td>\n",
       "      <td>7</td>\n",
       "    </tr>\n",
       "    <tr>\n",
       "      <th>2015-01-02 16:32:46.201</th>\n",
       "      <td>162.0000</td>\n",
       "      <td>7</td>\n",
       "    </tr>\n",
       "    <tr>\n",
       "      <th>2015-01-02 16:33:23.091</th>\n",
       "      <td>162.5514</td>\n",
       "      <td>2700</td>\n",
       "    </tr>\n",
       "    <tr>\n",
       "      <th>2015-01-02 16:36:36.832</th>\n",
       "      <td>162.4195</td>\n",
       "      <td>1337</td>\n",
       "    </tr>\n",
       "    <tr>\n",
       "      <th>2015-01-02 16:47:52.084</th>\n",
       "      <td>162.0600</td>\n",
       "      <td>641</td>\n",
       "    </tr>\n",
       "    <tr>\n",
       "      <th>2015-01-02 16:55:59.975</th>\n",
       "      <td>162.0600</td>\n",
       "      <td>1710</td>\n",
       "    </tr>\n",
       "    <tr>\n",
       "      <th>2015-01-02 17:53:26.666</th>\n",
       "      <td>162.0600</td>\n",
       "      <td>3166</td>\n",
       "    </tr>\n",
       "    <tr>\n",
       "      <th>2015-01-02 17:53:30.411</th>\n",
       "      <td>162.0600</td>\n",
       "      <td>700</td>\n",
       "    </tr>\n",
       "    <tr>\n",
       "      <th>2015-01-02 18:18:20.883</th>\n",
       "      <td>161.9000</td>\n",
       "      <td>100</td>\n",
       "    </tr>\n",
       "    <tr>\n",
       "      <th>2015-01-02 18:18:20.885</th>\n",
       "      <td>162.0000</td>\n",
       "      <td>86</td>\n",
       "    </tr>\n",
       "    <tr>\n",
       "      <th>2015-01-02 18:18:20.887</th>\n",
       "      <td>162.0500</td>\n",
       "      <td>14</td>\n",
       "    </tr>\n",
       "    <tr>\n",
       "      <th>2015-01-02 19:17:15.323</th>\n",
       "      <td>162.0500</td>\n",
       "      <td>25</td>\n",
       "    </tr>\n",
       "    <tr>\n",
       "      <th>2015-01-02 19:40:00.235</th>\n",
       "      <td>161.9000</td>\n",
       "      <td>50</td>\n",
       "    </tr>\n",
       "    <tr>\n",
       "      <th>2015-01-02 19:58:19.047</th>\n",
       "      <td>161.9000</td>\n",
       "      <td>50</td>\n",
       "    </tr>\n",
       "  </tbody>\n",
       "</table>\n",
       "<p>36655 rows × 2 columns</p>\n",
       "</div>"
      ],
      "text/plain": [
       "                            price   size\n",
       "datetime                                \n",
       "2015-01-02 08:00:06.611  160.4400   6700\n",
       "2015-01-02 08:20:35.654  160.4400   5977\n",
       "2015-01-02 08:25:19.899  161.0000     50\n",
       "2015-01-02 08:27:51.718  161.0000    200\n",
       "2015-01-02 08:28:35.025  161.6100     50\n",
       "2015-01-02 08:34:06.654  160.4400   7270\n",
       "2015-01-02 08:36:08.256  161.0300     50\n",
       "2015-01-02 08:36:08.256  161.0200    150\n",
       "2015-01-02 08:38:47.064  160.4400  11793\n",
       "2015-01-02 08:39:42.730  160.4400   5068\n",
       "2015-01-02 08:43:09.781  161.0000    300\n",
       "2015-01-02 08:51:52.997  160.4400   3559\n",
       "2015-01-02 08:52:26.991  161.0000    200\n",
       "2015-01-02 08:52:27.545  161.0000    200\n",
       "2015-01-02 08:52:28.015  161.0000    200\n",
       "2015-01-02 08:52:29.179  161.0000     42\n",
       "2015-01-02 09:09:13.396  161.0800    100\n",
       "2015-01-02 09:10:43.957  161.0000     50\n",
       "2015-01-02 09:10:43.957  160.7700    200\n",
       "2015-01-02 09:10:43.957  160.7700    200\n",
       "2015-01-02 09:10:55.461  160.7700    200\n",
       "2015-01-02 09:17:04.086  161.0800    210\n",
       "2015-01-02 09:17:04.086  161.0900    290\n",
       "2015-01-02 09:17:04.303  161.0900    210\n",
       "2015-01-02 09:17:04.303  161.0900    100\n",
       "2015-01-02 09:17:04.303  161.1000    190\n",
       "2015-01-02 09:17:14.319  161.1000    300\n",
       "2015-01-02 09:17:15.610  161.1000    100\n",
       "2015-01-02 09:17:21.671  161.1000    300\n",
       "2015-01-02 09:17:22.531  161.1000    100\n",
       "...                           ...    ...\n",
       "2015-01-02 16:05:27.744  162.0800    100\n",
       "2015-01-02 16:08:42.424  162.6794   7000\n",
       "2015-01-02 16:09:21.891  162.0500   7151\n",
       "2015-01-02 16:09:21.989  162.0500   7988\n",
       "2015-01-02 16:11:13.068  162.0600  22044\n",
       "2015-01-02 16:12:10.305  162.3843    200\n",
       "2015-01-02 16:12:12.153  162.0600   2856\n",
       "2015-01-02 16:12:38.418  162.3843    100\n",
       "2015-01-02 16:12:39.718  162.3843    100\n",
       "2015-01-02 16:12:40.316  162.3843    100\n",
       "2015-01-02 16:12:41.218  162.3843    100\n",
       "2015-01-02 16:12:54.964  162.0600    180\n",
       "2015-01-02 16:12:56.888  162.0600    868\n",
       "2015-01-02 16:18:26.398  162.0500     50\n",
       "2015-01-02 16:22:12.496  162.4549     36\n",
       "2015-01-02 16:23:34.347  162.0600    205\n",
       "2015-01-02 16:32:22.292  162.0000      7\n",
       "2015-01-02 16:32:46.201  162.0000      7\n",
       "2015-01-02 16:33:23.091  162.5514   2700\n",
       "2015-01-02 16:36:36.832  162.4195   1337\n",
       "2015-01-02 16:47:52.084  162.0600    641\n",
       "2015-01-02 16:55:59.975  162.0600   1710\n",
       "2015-01-02 17:53:26.666  162.0600   3166\n",
       "2015-01-02 17:53:30.411  162.0600    700\n",
       "2015-01-02 18:18:20.883  161.9000    100\n",
       "2015-01-02 18:18:20.885  162.0000     86\n",
       "2015-01-02 18:18:20.887  162.0500     14\n",
       "2015-01-02 19:17:15.323  162.0500     25\n",
       "2015-01-02 19:40:00.235  161.9000     50\n",
       "2015-01-02 19:58:19.047  161.9000     50\n",
       "\n",
       "[36655 rows x 2 columns]"
      ]
     },
     "execution_count": 6,
     "metadata": {},
     "output_type": "execute_result"
    }
   ],
   "source": [
    "data_set[0]"
   ]
  },
  {
   "cell_type": "code",
   "execution_count": 7,
   "metadata": {
    "collapsed": true
   },
   "outputs": [],
   "source": [
    "def remove_outliers_trades(time_series, window=1000):\n",
    "    \n",
    "    time_series['size_upper_bound'] = pd.rolling_quantile(time_series['size'],\n",
    "                                                     window=window,\n",
    "                                                     quantile=0.99,\n",
    "                                                     min_periods=1)\n",
    "    time_series['size_lower_bound'] = pd.rolling_quantile(time_series['size'],\n",
    "                                                     window=window,\n",
    "                                                     quantile=0.01,\n",
    "                                                     min_periods=1)\n",
    "    time_series = time_series[time_series['size'] < time_series['size_upper_bound']]\n",
    "    time_series = time_series[time_series['size'] > time_series['size_lower_bound']]\n",
    "\n",
    "    time_series.drop(['size_upper_bound', 'size_lower_bound'], axis = 1)\n",
    "\n",
    "    time_series['price_upper_bound'] = pd.rolling_quantile(time_series['price'],\n",
    "                                                     window=window,\n",
    "                                                     quantile=0.99,\n",
    "                                                     min_periods=1)\n",
    "    time_series['price_lower_bound'] = pd.rolling_quantile(time_series['price'],\n",
    "                                                     window=window,\n",
    "                                                     quantile=0.01,\n",
    "                                                     min_periods=1)\n",
    "    time_series = time_series[time_series['price'] < time_series['price_upper_bound']]\n",
    "    time_series = time_series[time_series['price'] > time_series['price_lower_bound']]\n",
    "\n",
    "    time_series = time_series.drop(['price_upper_bound', 'price_lower_bound'], axis = 1)\n",
    "\n",
    "    price_median = time_series['price'].median()\n",
    "\n",
    "    time_series = time_series[time_series['price'] > price_median * 0.80]\n",
    "    time_series = time_series[time_series['price'] < price_median * 1.20]\n",
    "\n",
    "    return time_series"
   ]
  },
  {
   "cell_type": "code",
   "execution_count": 8,
   "metadata": {
    "collapsed": true
   },
   "outputs": [],
   "source": [
    "def resample_trades(date, df):\n",
    "    \n",
    "    start_timestamp = pd.to_datetime(date + 'T10:00:00')\n",
    "    end_timestamp = pd.to_datetime(date + 'T14:00:00')\n",
    "        \n",
    "    df = df.resample(sampling_freq).median().fillna(method='pad')    \n",
    "    complete_result = df[start_timestamp:end_timestamp]['price'].diff()[1:]\n",
    "    \n",
    "    n_samples = len(complete_result)\n",
    "    \n",
    "    return complete_result.values"
   ]
  },
  {
   "cell_type": "code",
   "execution_count": 9,
   "metadata": {},
   "outputs": [
    {
     "name": "stderr",
     "output_type": "stream",
     "text": [
      "/usr/local/lib/python2.7/dist-packages/ipykernel_launcher.py:6: FutureWarning: pd.rolling_quantile is deprecated for Series and will be removed in a future version, replace with \n",
      "\tSeries.rolling(min_periods=1,window=1000,center=False).quantile(quantile=0.99)\n",
      "  \n",
      "/usr/local/lib/python2.7/dist-packages/ipykernel_launcher.py:10: FutureWarning: pd.rolling_quantile is deprecated for Series and will be removed in a future version, replace with \n",
      "\tSeries.rolling(min_periods=1,window=1000,center=False).quantile(quantile=0.01)\n",
      "  # Remove the CWD from sys.path while we load stuff.\n",
      "/usr/local/lib/python2.7/dist-packages/ipykernel_launcher.py:19: FutureWarning: pd.rolling_quantile is deprecated for Series and will be removed in a future version, replace with \n",
      "\tSeries.rolling(min_periods=1,window=1000,center=False).quantile(quantile=0.99)\n",
      "/usr/local/lib/python2.7/dist-packages/ipykernel_launcher.py:23: FutureWarning: pd.rolling_quantile is deprecated for Series and will be removed in a future version, replace with \n",
      "\tSeries.rolling(min_periods=1,window=1000,center=False).quantile(quantile=0.01)\n"
     ]
    }
   ],
   "source": [
    "resampled_clean_data_set = [resample_trades(date, remove_outliers_trades(intraday)) \n",
    "                            for (date, intraday) in zip(valid_dates, data_set)]"
   ]
  },
  {
   "cell_type": "code",
   "execution_count": 10,
   "metadata": {},
   "outputs": [
    {
     "name": "stdout",
     "output_type": "stream",
     "text": [
      "(251, 144000)\n"
     ]
    }
   ],
   "source": [
    "n_timestamps_expected = 4 * 3600 * 1000 / n_ms\n",
    "data_set_array = np.asanyarray([x \n",
    "                                for x in resampled_clean_data_set\n",
    "                                if len(x) == n_timestamps_expected])\n",
    "print(data_set_array.shape)"
   ]
  },
  {
   "cell_type": "markdown",
   "metadata": {},
   "source": [
    "## Let's visualize a couple of examples"
   ]
  },
  {
   "cell_type": "code",
   "execution_count": 22,
   "metadata": {},
   "outputs": [
    {
     "data": {
      "image/png": "[encoded data removed]",
      "text/plain": [
       "<matplotlib.figure.Figure at 0x7f0e2c4733d0>"
      ]
     },
     "metadata": {},
     "output_type": "display_data"
    },
    {
     "data": {
      "image/png": "[encoded data removed]",
      "text/plain": [
       "<matplotlib.figure.Figure at 0x7f0e40b0e190>"
      ]
     },
     "metadata": {},
     "output_type": "display_data"
    },
    {
     "data": {
      "image/png": "[encoded data removed]",
      "text/plain": [
       "<matplotlib.figure.Figure at 0x7f0e2c32f090>"
      ]
     },
     "metadata": {},
     "output_type": "display_data"
    },
    {
     "data": {
      "image/png": "[encoded data removed]",
      "text/plain": [
       "<matplotlib.figure.Figure at 0x7f0e2c4dfa90>"
      ]
     },
     "metadata": {},
     "output_type": "display_data"
    }
   ],
   "source": [
    "n_days_to_plot = 4\n",
    "\n",
    "for day in xrange(n_days_to_plot):\n",
    "    plt.plot(data_set_array[np.random.randint(data_set_array.shape[0])])\n",
    "    plt.title('Intraday return series for %s between 10AM and 2PM' % target_stock)\n",
    "    plt.show()    "
   ]
  },
  {
   "cell_type": "markdown",
   "metadata": {},
   "source": [
    "# Building the network"
   ]
  },
  {
   "cell_type": "code",
   "execution_count": 11,
   "metadata": {
    "collapsed": true
   },
   "outputs": [],
   "source": [
    "# We do not assume we know the sequence length yet\n",
    "\n",
    "x_seq_ph = tf.placeholder(shape=(batch_size, None), dtype=tf.float32)\n",
    "x_seq = tf.expand_dims(x_seq_ph, axis=-1)"
   ]
  },
  {
   "cell_type": "code",
   "execution_count": 12,
   "metadata": {
    "collapsed": true
   },
   "outputs": [],
   "source": [
    "def convolution_layer(input_seq, n_dims_in, n_dims_out, width, \n",
    "                      dilation=1, causal=True):\n",
    "    conv_kernel = tf.get_variable(\n",
    "        name=\"kernel\",\n",
    "        shape=[width, n_dims_in, n_dims_out], \n",
    "        dtype=tf.float32,\n",
    "        initializer=tf.truncated_normal_initializer())\n",
    "    \n",
    "    # Similar to approach in Francois Chollet's Keras library\n",
    "    if causal:\n",
    "        offset = dilation * (width - 1)\n",
    "        input_seq = tf.pad(input_seq, [[0, 0], [offset, 0], [0, 0]])\n",
    "    \n",
    "    conv_output = tf.nn.convolution(\n",
    "        input=input_seq,\n",
    "        filter=conv_kernel,\n",
    "        padding=\"VALID\" if causal else \"SAME\",\n",
    "        strides=None,\n",
    "        dilation_rate=[dilation]\n",
    "    )\n",
    "    \n",
    "    return conv_output"
   ]
  },
  {
   "cell_type": "code",
   "execution_count": 13,
   "metadata": {
    "collapsed": true
   },
   "outputs": [],
   "source": [
    "to_predict =  x_seq[:,1:,:]\n",
    "predicted = convolution_layer(x_seq[:,:-1,:], \n",
    "                              n_dims_in=1, \n",
    "                              n_dims_out=1,\n",
    "                              width=16)\n",
    "\n",
    "loss = tf.reduce_sum(tf.nn.l2_loss(predicted - to_predict))"
   ]
  },
  {
   "cell_type": "code",
   "execution_count": 14,
   "metadata": {
    "collapsed": true
   },
   "outputs": [],
   "source": [
    "learning_rate = 1e-3\n",
    "\n",
    "optimizer = tf.train.RMSPropOptimizer(learning_rate=learning_rate).minimize(loss)"
   ]
  },
  {
   "cell_type": "code",
   "execution_count": 15,
   "metadata": {
    "collapsed": true
   },
   "outputs": [],
   "source": [
    "n_days = data_set_array.shape[0]\n",
    "sequence_length = 4096\n",
    "train_test_split = 0.9\n",
    "n_days_train = int(n_days * train_test_split)\n",
    "\n",
    "def generate_train_samples(batch_size):\n",
    "    selected_days = np.random.choice(range(n_days_train), batch_size)    \n",
    "    offset = np.random.uniform(0, n_timestamps_expected - sequence_length)\n",
    "    return data_set_array[selected_days]\n",
    "\n",
    "def generate_test_samples(batch_size):\n",
    "    selected_days = np.random.choice(range(n_days_train, n_days), batch_size)    \n",
    "    offset = np.random.uniform(0, n_timestamps_expected - sequence_length)\n",
    "    return data_set_array[selected_days]"
   ]
  },
  {
   "cell_type": "code",
   "execution_count": 23,
   "metadata": {},
   "outputs": [],
   "source": [
    "n_steps = int(2*1e3)\n",
    "\n",
    "session = tf.Session()\n",
    "\n",
    "session.run(tf.global_variables_initializer())\n",
    "\n",
    "train_loss_evals = []\n",
    "test_loss_evals = []\n",
    "\n",
    "for step in xrange(n_steps):\n",
    "    \n",
    "    x_seq_train_samples = generate_train_samples(batch_size)\n",
    "    train_loss_eval, _ = session.run((loss, optimizer), \n",
    "                                     feed_dict={x_seq_ph: x_seq_train_samples})\n",
    "    train_loss_evals.append(train_loss_eval)\n",
    "    \n",
    "    x_seq_test_samples = generate_test_samples(batch_size)\n",
    "    test_loss_eval, _ = session.run((loss, optimizer), \n",
    "                                    feed_dict={x_seq_ph: x_seq_test_samples})\n",
    "    test_loss_evals.append(test_loss_eval)"
   ]
  },
  {
   "cell_type": "code",
   "execution_count": 24,
   "metadata": {},
   "outputs": [
    {
     "data": {
      "image/png": "[encoded data removed]",
      "text/plain": [
       "<matplotlib.figure.Figure at 0x7f0e2c30e3d0>"
      ]
     },
     "metadata": {},
     "output_type": "display_data"
    }
   ],
   "source": [
    "plt.plot(train_loss_evals)\n",
    "plt.plot(test_loss_evals)\n",
    "plt.legend(('In sample', 'Out of sample', ))\n",
    "plt.title('Squared l2 loss')\n",
    "plt.xlabel('SGD step')\n",
    "plt.show()"
   ]
  },
  {
   "cell_type": "code",
   "execution_count": 25,
   "metadata": {},
   "outputs": [
    {
     "name": "stdout",
     "output_type": "stream",
     "text": [
      "130.964\n"
     ]
    }
   ],
   "source": [
    "print(np.mean(test_loss_evals[-64:]))"
   ]
  },
  {
   "cell_type": "code",
   "execution_count": null,
   "metadata": {
    "collapsed": true
   },
   "outputs": [],
   "source": []
  }
 ],
 "metadata": {
  "kernelspec": {
   "display_name": "Python 2",
   "language": "python",
   "name": "python2"
  },
  "language_info": {
   "codemirror_mode": {
    "name": "ipython",
    "version": 2
   },
   "file_extension": ".py",
   "mimetype": "text/x-python",
   "name": "python",
   "nbconvert_exporter": "python",
   "pygments_lexer": "ipython2",
   "version": "2.7.12"
  }
 },
 "nbformat": 4,
 "nbformat_minor": 2
}
